{
 "cells": [
  {
   "cell_type": "code",
   "execution_count": 7,
   "metadata": {},
   "outputs": [
    {
     "name": "stdout",
     "output_type": "stream",
     "text": [
      "(21265, 2)\n",
      "[[2016   88]\n",
      " [2016   92]\n",
      " [2016   86]\n",
      " ...\n",
      " [2021   54]\n",
      " [2021    6]\n",
      " [2021   47]]\n",
      "[[2016   88]\n",
      " [2016   92]\n",
      " [2016   86]\n",
      " ...\n",
      " [2021   54]\n",
      " [2021    6]\n",
      " [2021   47]]\n"
     ]
    },
    {
     "data": {
      "image/png": "[encoded data removed]",
      "text/plain": [
       "<Figure size 432x288 with 1 Axes>"
      ]
     },
     "metadata": {
      "needs_background": "light"
     },
     "output_type": "display_data"
    }
   ],
   "source": [
    "import numpy\n",
    "\n",
    "import matplotlib.pyplot as plt\n",
    "\n",
    "#filename = 'C:/Users/Rodrigo/Desktop/ANALISIS_DE_DATOS/GRIPE_DEFUNCIONES.csv'\n",
    "\n",
    "#raw_data_1 = open(filename)\n",
    "\n",
    "# l = [filename.readline()]\n",
    "\n",
    "data_1 = numpy.loadtxt('C:/Users/Rodrigo/Desktop/ANALISIS_DE_DATOS/GRIPE_DEFUNCIONES.csv', delimiter=\";\", skiprows=1, dtype=\"int\", usecols=(0,4))\n",
    "\n",
    "data_2 = numpy.loadtxt('C:/Users/Rodrigo/Desktop/ANALISIS_DE_DATOS/Covid_Muertes.csv', delimiter=\";\", skiprows=1, dtype=\"int\", usecols=(0,4))\n",
    "\n",
    "print(data_1.shape)\n",
    "\n",
    "print(data_1)\n",
    "\n",
    "print(data_2)\n",
    "\n",
    "plt.plot(data_1, color=\"green\", linewidth=2, linestyle=\"-\")\n",
    "\n",
    "plt.plot(data_2, color=\"red\", linewidth=2, linestyle=\"-\")\n",
    "\n",
    "plt.title=(\"Grafico\")\n",
    "\n",
    "plt.xlabel(\"Cantidad\")\n",
    "\n",
    "plt.ylabel(\"Edad\")\n",
    "\n",
    "plt.grid(\"True\")"
   ]
  },
  {
   "cell_type": "code",
   "execution_count": null,
   "metadata": {},
   "outputs": [],
   "source": []
  }
 ],
 "metadata": {
  "kernelspec": {
   "display_name": "Python 3",
   "language": "python",
   "name": "python3"
  },
  "language_info": {
   "codemirror_mode": {
    "name": "ipython",
    "version": 3
   },
   "file_extension": ".py",
   "mimetype": "text/x-python",
   "name": "python",
   "nbconvert_exporter": "python",
   "pygments_lexer": "ipython3",
   "version": "3.8.5"
  }
 },
 "nbformat": 4,
 "nbformat_minor": 4
}
